{
 "cells": [
  {
   "cell_type": "markdown",
   "metadata": {},
   "source": [
    "# SVD Microarray Analysis\n",
    "\n",
    "This notebook demonstrates Singular Value Decomposition (SVD) on microarray data."
   ]
  },
  {
   "cell_type": "code",
   "execution_count": 1,
   "metadata": {},
   "outputs": [],
   "source": [
    "# Import required libraries\n",
    "import numpy as np\n",
    "import pandas as pd\n",
    "import matplotlib.pyplot as plt"
   ]
  },
  {
   "cell_type": "code",
   "execution_count": 2,
   "metadata": {},
   "outputs": [
    {
     "data": {
      "application/vnd.microsoft.datawrangler.viewer.v0+json": {
       "columns": [
        {
         "name": "index",
         "rawType": "int64",
         "type": "integer"
        },
        {
         "name": "Sample_1",
         "rawType": "float64",
         "type": "float"
        },
        {
         "name": "Sample_2",
         "rawType": "float64",
         "type": "float"
        },
        {
         "name": "Sample_3",
         "rawType": "float64",
         "type": "float"
        },
        {
         "name": "Sample_4",
         "rawType": "float64",
         "type": "float"
        },
        {
         "name": "Sample_5",
         "rawType": "float64",
         "type": "float"
        },
        {
         "name": "Sample_6",
         "rawType": "float64",
         "type": "float"
        },
        {
         "name": "Sample_7",
         "rawType": "float64",
         "type": "float"
        },
        {
         "name": "Sample_8",
         "rawType": "float64",
         "type": "float"
        },
        {
         "name": "Sample_9",
         "rawType": "float64",
         "type": "float"
        },
        {
         "name": "Sample_10",
         "rawType": "float64",
         "type": "float"
        }
       ],
       "ref": "b65d314f-fc18-4d7f-ab43-fdcc43f2e117",
       "rows": [
        [
         "0",
         "0.4190598967419187",
         "0.3878870281448603",
         "0.2551974755595324",
         "0.73581098630685",
         "0.9143457131498763",
         "0.6370419017625982",
         "0.6991294040566508",
         "0.048116755191486726",
         "0.7781321680040274",
         "0.2292508900178989"
        ],
        [
         "1",
         "0.6941434526191108",
         "0.8217743419060123",
         "0.33515266876332184",
         "0.8084404834873978",
         "0.9046601233797508",
         "0.8456520785159215",
         "0.34579097739146514",
         "0.1657317208996537",
         "0.8051427345905198",
         "0.9822895030168142"
        ],
        [
         "2",
         "0.41414482988014234",
         "0.7436986002650042",
         "0.3883230748245",
         "0.3109633077849907",
         "0.5431412746589934",
         "0.7687819439366046",
         "0.25425845935190006",
         "0.7699801034081434",
         "0.583611820304374",
         "0.06318685864980567"
        ],
        [
         "3",
         "0.09036685080625873",
         "0.18043222849843343",
         "0.30506736254653943",
         "0.5795445915980563",
         "0.639749664364402",
         "0.558611550245506",
         "0.823293323539616",
         "0.3684947326834468",
         "0.9165429519699417",
         "0.7329842498164308"
        ],
        [
         "4",
         "0.09137495427579978",
         "0.07628332963080597",
         "0.06423181297081837",
         "0.05286519835145653",
         "0.8571065845331063",
         "0.7885628908557676",
         "0.23624306376548287",
         "0.9724123865682152",
         "0.841155690648473",
         "0.7522255498638303"
        ]
       ],
       "shape": {
        "columns": 10,
        "rows": 5
       }
      },
      "text/html": [
       "<div>\n",
       "<style scoped>\n",
       "    .dataframe tbody tr th:only-of-type {\n",
       "        vertical-align: middle;\n",
       "    }\n",
       "\n",
       "    .dataframe tbody tr th {\n",
       "        vertical-align: top;\n",
       "    }\n",
       "\n",
       "    .dataframe thead th {\n",
       "        text-align: right;\n",
       "    }\n",
       "</style>\n",
       "<table border=\"1\" class=\"dataframe\">\n",
       "  <thead>\n",
       "    <tr style=\"text-align: right;\">\n",
       "      <th></th>\n",
       "      <th>Sample_1</th>\n",
       "      <th>Sample_2</th>\n",
       "      <th>Sample_3</th>\n",
       "      <th>Sample_4</th>\n",
       "      <th>Sample_5</th>\n",
       "      <th>Sample_6</th>\n",
       "      <th>Sample_7</th>\n",
       "      <th>Sample_8</th>\n",
       "      <th>Sample_9</th>\n",
       "      <th>Sample_10</th>\n",
       "    </tr>\n",
       "  </thead>\n",
       "  <tbody>\n",
       "    <tr>\n",
       "      <th>0</th>\n",
       "      <td>0.419060</td>\n",
       "      <td>0.387887</td>\n",
       "      <td>0.255197</td>\n",
       "      <td>0.735811</td>\n",
       "      <td>0.914346</td>\n",
       "      <td>0.637042</td>\n",
       "      <td>0.699129</td>\n",
       "      <td>0.048117</td>\n",
       "      <td>0.778132</td>\n",
       "      <td>0.229251</td>\n",
       "    </tr>\n",
       "    <tr>\n",
       "      <th>1</th>\n",
       "      <td>0.694143</td>\n",
       "      <td>0.821774</td>\n",
       "      <td>0.335153</td>\n",
       "      <td>0.808440</td>\n",
       "      <td>0.904660</td>\n",
       "      <td>0.845652</td>\n",
       "      <td>0.345791</td>\n",
       "      <td>0.165732</td>\n",
       "      <td>0.805143</td>\n",
       "      <td>0.982290</td>\n",
       "    </tr>\n",
       "    <tr>\n",
       "      <th>2</th>\n",
       "      <td>0.414145</td>\n",
       "      <td>0.743699</td>\n",
       "      <td>0.388323</td>\n",
       "      <td>0.310963</td>\n",
       "      <td>0.543141</td>\n",
       "      <td>0.768782</td>\n",
       "      <td>0.254258</td>\n",
       "      <td>0.769980</td>\n",
       "      <td>0.583612</td>\n",
       "      <td>0.063187</td>\n",
       "    </tr>\n",
       "    <tr>\n",
       "      <th>3</th>\n",
       "      <td>0.090367</td>\n",
       "      <td>0.180432</td>\n",
       "      <td>0.305067</td>\n",
       "      <td>0.579545</td>\n",
       "      <td>0.639750</td>\n",
       "      <td>0.558612</td>\n",
       "      <td>0.823293</td>\n",
       "      <td>0.368495</td>\n",
       "      <td>0.916543</td>\n",
       "      <td>0.732984</td>\n",
       "    </tr>\n",
       "    <tr>\n",
       "      <th>4</th>\n",
       "      <td>0.091375</td>\n",
       "      <td>0.076283</td>\n",
       "      <td>0.064232</td>\n",
       "      <td>0.052865</td>\n",
       "      <td>0.857107</td>\n",
       "      <td>0.788563</td>\n",
       "      <td>0.236243</td>\n",
       "      <td>0.972412</td>\n",
       "      <td>0.841156</td>\n",
       "      <td>0.752226</td>\n",
       "    </tr>\n",
       "  </tbody>\n",
       "</table>\n",
       "</div>"
      ],
      "text/plain": [
       "   Sample_1  Sample_2  Sample_3  Sample_4  Sample_5  Sample_6  Sample_7  \\\n",
       "0  0.419060  0.387887  0.255197  0.735811  0.914346  0.637042  0.699129   \n",
       "1  0.694143  0.821774  0.335153  0.808440  0.904660  0.845652  0.345791   \n",
       "2  0.414145  0.743699  0.388323  0.310963  0.543141  0.768782  0.254258   \n",
       "3  0.090367  0.180432  0.305067  0.579545  0.639750  0.558612  0.823293   \n",
       "4  0.091375  0.076283  0.064232  0.052865  0.857107  0.788563  0.236243   \n",
       "\n",
       "   Sample_8  Sample_9  Sample_10  \n",
       "0  0.048117  0.778132   0.229251  \n",
       "1  0.165732  0.805143   0.982290  \n",
       "2  0.769980  0.583612   0.063187  \n",
       "3  0.368495  0.916543   0.732984  \n",
       "4  0.972412  0.841156   0.752226  "
      ]
     },
     "execution_count": 2,
     "metadata": {},
     "output_type": "execute_result"
    }
   ],
   "source": [
    "# Load microarray data (replace with your file path)\n",
    "# Example: data = pd.read_csv('microarray.csv', index_col=0)\n",
    "data = pd.DataFrame(np.random.rand(100, 10), columns=[f'Sample_{i+1}' for i in range(10)])\n",
    "data.head()"
   ]
  },
  {
   "cell_type": "code",
   "execution_count": 3,
   "metadata": {},
   "outputs": [
    {
     "name": "stdout",
     "output_type": "stream",
     "text": [
      "Singular values: [16.00250675  3.62370247  3.56032019  3.38565408  3.20998991  2.79053752\n",
      "  2.71632273  2.50674497  2.35777735  2.30713368]\n"
     ]
    }
   ],
   "source": [
    "# Perform SVD\n",
    "U, s, VT = np.linalg.svd(data, full_matrices=False)\n",
    "print('Singular values:', s)"
   ]
  },
  {
   "cell_type": "code",
   "execution_count": 4,
   "metadata": {},
   "outputs": [
    {
     "data": {
      "image/png": "[encoded data removed]",
      "text/plain": [
       "<Figure size 800x400 with 1 Axes>"
      ]
     },
     "metadata": {},
     "output_type": "display_data"
    }
   ],
   "source": [
    "# Plot singular values\n",
    "plt.figure(figsize=(8,4))\n",
    "plt.plot(s, 'o-')\n",
    "plt.title('Singular Values')\n",
    "plt.xlabel('Component')\n",
    "plt.ylabel('Value')\n",
    "plt.show()"
   ]
  }
 ],
 "metadata": {
  "kernelspec": {
   "display_name": "Python 3",
   "language": "python",
   "name": "python3"
  },
  "language_info": {
   "codemirror_mode": {
    "name": "ipython",
    "version": 3
   },
   "file_extension": ".py",
   "mimetype": "text/x-python",
   "name": "python",
   "nbconvert_exporter": "python",
   "pygments_lexer": "ipython3",
   "version": "3.12.4"
  }
 },
 "nbformat": 4,
 "nbformat_minor": 2
}
